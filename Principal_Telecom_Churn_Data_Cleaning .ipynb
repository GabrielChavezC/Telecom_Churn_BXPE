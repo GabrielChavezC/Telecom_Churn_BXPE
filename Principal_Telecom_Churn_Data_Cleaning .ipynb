{
  "cells": [
    {
      "cell_type": "markdown",
      "metadata": {
        "id": "hzRQ35N6mWsH"
      },
      "source": [
        "# **PROBLEMA DE NEGOCIO**\n",
        "\n",
        "\n",
        "---\n",
        "\n",
        "\n"
      ]
    },
    {
      "cell_type": "markdown",
      "metadata": {
        "id": "UGwFIqCdmavM"
      },
      "source": [
        "## Una empresa de telecomunicaciones desea mejorar la retención de sus clientes, identificando aquellos que tienen más chances de abandonar el servicio (Churn). Como científico de datos, tu objetivo será limpiar y preparar un conjunto de datos para el entrenamiento de un modelo de Churn. A continuación, se presentan las preguntas clave que guiarán el proceso de limpieza de datos:"
      ]
    },
    {
      "cell_type": "markdown",
      "metadata": {
        "id": "bHlnxw5lm03j"
      },
      "source": [
        "### **Preguntas**\n",
        "\n",
        "1. ¿Qué insights podemos obtener del análisis exploratorio inicial del conjunto de datos?\n",
        "\n",
        "2. ¿Qué transformaciones básicas son necesarias para preparar los datos?\n",
        "\n",
        "3. ¿Cómo podemos identificar y tratar los datos duplicados y los valores nulos?\n",
        "\n",
        "4. ¿Cómo manejamos los outliers presentes en el dataset?\n",
        "\n",
        "5. ¿Qué técnicas aplicamos para procesar las variables categóricas?"
      ]
    },
    {
      "cell_type": "markdown",
      "metadata": {
        "id": "uSq0Ow4wukeh"
      },
      "source": [
        "#**1. Configuración del Ambiente**\n",
        "\n",
        "\n",
        "---\n",
        "\n",
        "\n"
      ]
    },
    {
      "cell_type": "code",
      "execution_count": null,
      "metadata": {
        "id": "EX4-CKFTu2Zn"
      },
      "outputs": [],
      "source": [
        "import numpy as np\n",
        "import pandas as pd\n",
        "pd.set_option('display.max_columns', None)\n",
        "import seaborn as sns\n",
        "import matplotlib.pyplot as plt\n",
        "import json\n",
        "from sklearn.model_selection import train_test_split\n",
        "from sklearn.ensemble import RandomForestClassifier\n",
        "from sklearn.feature_selection import SelectKBest\n",
        "from sklearn.feature_selection import chi2\n",
        "from sklearn.feature_selection import RFECV\n",
        "from sklearn.feature_selection import RFE\n",
        "from sklearn.decomposition import PCA\n",
        "from sklearn.model_selection import cross_val_score\n",
        "global datos_churn"
      ]
    },
    {
      "cell_type": "markdown",
      "metadata": {
        "id": "qfGmLEx3uo0G"
      },
      "source": [
        "#**2. Obtención y Tratamiento de Datos**\n",
        "\n",
        "\n",
        "---\n",
        "\n",
        "\n"
      ]
    },
    {
      "cell_type": "markdown",
      "metadata": {
        "id": "fMvJRzspuTof"
      },
      "source": [
        "##**2.1 Cargando las bases de datos**"
      ]
    },
    {
      "cell_type": "code",
      "execution_count": null,
      "metadata": {
        "id": "BHBJivg4QrQc"
      },
      "outputs": [],
      "source": [
        "datos_churn = pd.read_json(\"base_clientes.json\")\n",
        "datos_churn.head()"
      ]
    },
    {
      "cell_type": "code",
      "execution_count": null,
      "metadata": {
        "id": "LAGV5ffRpul8"
      },
      "outputs": [],
      "source": [
        "datos_churn.info()"
      ]
    },
    {
      "cell_type": "code",
      "execution_count": null,
      "metadata": {
        "id": "BvydtftJqLKv"
      },
      "outputs": [],
      "source": [
        "def lectura_datos():\n",
        "  global datos_churn\n",
        "  #Tu código aquí"
      ]
    },
    {
      "cell_type": "code",
      "execution_count": null,
      "metadata": {
        "id": "mrSaTdMArKSK"
      },
      "outputs": [],
      "source": [
        "lectura_datos()\n",
        "datos_churn.head()"
      ]
    },
    {
      "cell_type": "markdown",
      "metadata": {
        "id": "yZYnoJRouf_k"
      },
      "source": [
        "##**2.2 Tratamiento de datos**"
      ]
    },
    {
      "cell_type": "code",
      "execution_count": null,
      "metadata": {
        "id": "syRfgo9eujxN"
      },
      "outputs": [],
      "source": [
        "with open('/content/Diccionario.txt', 'r', encoding='utf-8') as file:\n",
        "    contenido = file.read()\n",
        "print(contenido)"
      ]
    },
    {
      "cell_type": "code",
      "execution_count": null,
      "metadata": {
        "id": "3SE_4vqdrbtd"
      },
      "outputs": [],
      "source": [
        "datos_churn.info()"
      ]
    },
    {
      "cell_type": "code",
      "execution_count": null,
      "metadata": {
        "id": "XiJUX2VA2IJW"
      },
      "outputs": [],
      "source": [
        "def preprocesamiento():\n",
        "  global datos_churn\n",
        "  #Tu código aquí"
      ]
    },
    {
      "cell_type": "code",
      "execution_count": null,
      "metadata": {
        "id": "0mKRPtp5GmOj"
      },
      "outputs": [],
      "source": [
        "preprocesamiento()\n",
        "datos_churn.info()"
      ]
    },
    {
      "cell_type": "markdown",
      "metadata": {
        "id": "J9vf2XtRRpl0"
      },
      "source": [
        "##**2.3 Normalizacion de datos**"
      ]
    },
    {
      "cell_type": "code",
      "execution_count": null,
      "metadata": {
        "id": "Ra50g_EgRsV3"
      },
      "outputs": [],
      "source": [
        "for col in datos_churn.columns:\n",
        "    print(f\"Columna: {col}\")\n",
        "    print(datos_churn[col].unique())\n",
        "    print(\"-\" * 30)"
      ]
    },
    {
      "cell_type": "code",
      "execution_count": null,
      "metadata": {
        "id": "pwNyedOzVcTk"
      },
      "outputs": [],
      "source": [
        "def normalizacion():\n",
        "  global datos_churn\n",
        "  #Tu código aquí"
      ]
    },
    {
      "cell_type": "code",
      "execution_count": null,
      "metadata": {
        "id": "xka2HArMXB0Z"
      },
      "outputs": [],
      "source": [
        "normalizacion()\n",
        "datos_churn.head()"
      ]
    },
    {
      "cell_type": "code",
      "execution_count": null,
      "metadata": {
        "id": "stDuLF5HX7Ut"
      },
      "outputs": [],
      "source": [
        "datos_churn.info()"
      ]
    },
    {
      "cell_type": "markdown",
      "metadata": {
        "id": "J0NOzhwQvb7d"
      },
      "source": [
        "#**3. Modelo Random Forest**\n",
        "\n",
        "\n",
        "---\n"
      ]
    },
    {
      "cell_type": "code",
      "execution_count": null,
      "metadata": {
        "id": "WqIW_6Frkkbn"
      },
      "outputs": [],
      "source": [
        "y = datos_churn['Churn']\n",
        "x = datos_churn.drop(columns='Churn')\n",
        "train_x, test_x, train_y, test_y = train_test_split(x, y, test_size=0.3, random_state = 50)"
      ]
    },
    {
      "cell_type": "code",
      "execution_count": null,
      "metadata": {
        "id": "uzE3jMjZkEu2"
      },
      "outputs": [],
      "source": [
        "def pronosticar(train_x, train_y):\n",
        "  model = RandomForestClassifier(random_state=50)\n",
        "  model.fit(train_x, train_y)\n",
        "  return model"
      ]
    },
    {
      "cell_type": "code",
      "execution_count": null,
      "metadata": {
        "id": "6Fn6fluQlyL1"
      },
      "outputs": [],
      "source": [
        "model = pronosticar(train_x, train_y)\n",
        "model.score(test_x, test_y)"
      ]
    },
    {
      "cell_type": "markdown",
      "metadata": {
        "id": "i6Z3ZNBe1QUQ"
      },
      "source": [
        "#**4. Reducción de Dimensionalidad**\n",
        "\n",
        "\n",
        "---\n"
      ]
    },
    {
      "cell_type": "markdown",
      "metadata": {
        "id": "eWENM_Lh_fRV"
      },
      "source": [
        "##**4.1 Métodos Gráficos**"
      ]
    },
    {
      "cell_type": "code",
      "execution_count": null,
      "metadata": {
        "id": "rWnXtKx7nCgx"
      },
      "outputs": [],
      "source": [
        "def diagrama_violin(df, inicio, fin):\n",
        "    #Tu código aquí\n",
        "\n",
        "def diagrama_puntos(df, inicio, fin):\n",
        "    #Tu código aquí\n",
        "\n",
        "def mapa_calor(df):\n",
        "    #Tu código aquí"
      ]
    },
    {
      "cell_type": "code",
      "execution_count": null,
      "metadata": {
        "id": "q9AIHt2s1yLp"
      },
      "outputs": [],
      "source": [
        "diagrama_violin(datos_churn, 1, 30)"
      ]
    },
    {
      "cell_type": "code",
      "execution_count": null,
      "metadata": {
        "id": "T3JyHfJZylS3"
      },
      "outputs": [],
      "source": [
        "diagrama_puntos(datos_churn, 1, 30)"
      ]
    },
    {
      "cell_type": "code",
      "execution_count": null,
      "metadata": {
        "id": "bdClw3ALz3d3"
      },
      "outputs": [],
      "source": [
        "datos_churn.groupby('Churn')[\"telefono.varias_lineas_sin servicio de telefono\"].value_counts(normalize=True)"
      ]
    },
    {
      "cell_type": "code",
      "execution_count": null,
      "metadata": {
        "id": "Qg-jXv2eG8Pr"
      },
      "outputs": [],
      "source": [
        "train_x = train_x.drop(columns=[\"telefono.varias_lineas_sin servicio de telefono\"])\n",
        "test_x = test_x.drop(columns=[\"telefono.varias_lineas_sin servicio de telefono\"])\n",
        "model = pronosticar(train_x, train_y)\n",
        "model.score(test_x, test_y)"
      ]
    },
    {
      "cell_type": "markdown",
      "metadata": {
        "id": "gswT4ZwsHauM"
      },
      "source": [
        "##**4.2 Mapa de Calor**"
      ]
    },
    {
      "cell_type": "code",
      "execution_count": null,
      "metadata": {
        "id": "0tYfZHOr27NQ"
      },
      "outputs": [],
      "source": [
        "matriz = mapa_calor(datos_churn)"
      ]
    },
    {
      "cell_type": "code",
      "execution_count": null,
      "metadata": {
        "id": "xeo79fScAKAb"
      },
      "outputs": [],
      "source": [
        "matriz2 = matriz>0.99\n",
        "matriz2 = matriz2.sum()\n",
        "matriz2[matriz2>1]"
      ]
    },
    {
      "cell_type": "code",
      "execution_count": null,
      "metadata": {
        "id": "gnjPTfiJFw9A"
      },
      "outputs": [],
      "source": [
        "def identificar_variables(base):\n",
        "  #Tu código aquí"
      ]
    },
    {
      "cell_type": "code",
      "execution_count": null,
      "metadata": {
        "id": "7eEqqGajIQak"
      },
      "outputs": [],
      "source": [
        "identificar_variables(matriz2[matriz2>1])"
      ]
    },
    {
      "cell_type": "code",
      "execution_count": null,
      "metadata": {
        "id": "Uj5tFqVZHprs"
      },
      "outputs": [],
      "source": [
        "train_x = train_x.drop(columns=['internet.seguridad_online_sin servicio de internet', 'internet.peliculas_streaming_sin servicio de internet', 'internet.backup_online_sin servicio de internet', 'internet.tv_streaming_sin servicio de internet', 'internet.soporte_tecnico_sin servicio de internet', 'internet.proteccion_dispositivo_sin servicio de internet','cuenta.contrato_un año'])\n",
        "test_x = test_x.drop(columns=['internet.seguridad_online_sin servicio de internet', 'internet.peliculas_streaming_sin servicio de internet', 'internet.backup_online_sin servicio de internet', 'internet.tv_streaming_sin servicio de internet', 'internet.soporte_tecnico_sin servicio de internet', 'internet.proteccion_dispositivo_sin servicio de internet','cuenta.contrato_un año'])\n",
        "model = pronosticar(train_x, train_y)\n",
        "model.score(test_x, test_y)"
      ]
    },
    {
      "cell_type": "markdown",
      "metadata": {
        "id": "W_FquNWbI36t"
      },
      "source": [
        "##**4.3 Feature Importances**"
      ]
    },
    {
      "cell_type": "code",
      "execution_count": null,
      "metadata": {
        "id": "p6M6a0IoL3Zp"
      },
      "outputs": [],
      "source": [
        "def pronosticar_kbest(train_x, test_x, train_y, test_y):\n",
        "  #Tu código aquí"
      ]
    },
    {
      "cell_type": "code",
      "execution_count": null,
      "metadata": {
        "id": "xrm1P-hPMfly"
      },
      "outputs": [],
      "source": [
        "pronosticar_kbest(train_x, test_x, train_y, test_y)"
      ]
    },
    {
      "cell_type": "code",
      "execution_count": null,
      "metadata": {
        "id": "_tycvFeCVcBa"
      },
      "outputs": [],
      "source": [
        "def pronosticar_RFE(train_x, test_x, train_y, test_y):\n",
        "    #Tu código aquí"
      ]
    },
    {
      "cell_type": "code",
      "execution_count": null,
      "metadata": {
        "id": "wnprZVBGWfoH"
      },
      "outputs": [],
      "source": [
        "pronosticar_RFE(train_x, test_x, train_y, test_y)"
      ]
    },
    {
      "cell_type": "code",
      "execution_count": null,
      "metadata": {
        "id": "FPqip9goOBCQ"
      },
      "outputs": [],
      "source": [
        "def pronosticar_RFECV(train_x, test_x, train_y, test_y):\n",
        "    #Tu código aquí"
      ]
    },
    {
      "cell_type": "code",
      "execution_count": null,
      "metadata": {
        "id": "GyCz_0t6Ou9A"
      },
      "outputs": [],
      "source": [
        "pronosticar_RFECV(train_x, test_x, train_y, test_y)"
      ]
    },
    {
      "cell_type": "code",
      "execution_count": null,
      "metadata": {
        "id": "Y8MLKgdBR6cK"
      },
      "outputs": [],
      "source": [
        "def pronosticar_PCA(train_x, test_x, train_y, test_y):\n",
        "    #Tu código aquí"
      ]
    },
    {
      "cell_type": "code",
      "execution_count": null,
      "metadata": {
        "id": "LaK7pqZGUgTR"
      },
      "outputs": [],
      "source": [
        "pronosticar_PCA(train_x, test_x, train_y, test_y)"
      ]
    }
  ],
  "metadata": {
    "colab": {
      "collapsed_sections": [
        "uSq0Ow4wukeh",
        "qfGmLEx3uo0G",
        "fMvJRzspuTof",
        "yZYnoJRouf_k",
        "J9vf2XtRRpl0",
        "J0NOzhwQvb7d",
        "i6Z3ZNBe1QUQ",
        "eWENM_Lh_fRV",
        "gswT4ZwsHauM",
        "W_FquNWbI36t"
      ],
      "provenance": []
    },
    "kernelspec": {
      "display_name": "Python 3",
      "name": "python3"
    },
    "language_info": {
      "name": "python"
    }
  },
  "nbformat": 4,
  "nbformat_minor": 0
}
